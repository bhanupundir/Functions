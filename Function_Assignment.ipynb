{
  "nbformat": 4,
  "nbformat_minor": 0,
  "metadata": {
    "colab": {
      "provenance": []
    },
    "kernelspec": {
      "name": "python3",
      "display_name": "Python 3"
    },
    "language_info": {
      "name": "python"
    }
  },
  "cells": [
    {
      "cell_type": "code",
      "execution_count": null,
      "metadata": {
        "id": "udvMNi3Vi4xj"
      },
      "outputs": [],
      "source": []
    },
    {
      "cell_type": "markdown",
      "source": [
        "# Theory assingment\n"
      ],
      "metadata": {
        "id": "empS9I35oDaQ"
      }
    },
    {
      "cell_type": "markdown",
      "source": [
        "**1. What is the difference between a function and a method in Python?**\n",
        "\n",
        "**FUNCTIONS**\n",
        "--> In Python, a function is a block of reusable code that performs a specific task. You can define a function using the def keyword. Here’s the basic structure of a Python function.\n",
        "\n",
        "**Example **- Here’s a simple function that adds two numbers:\n",
        "def add_numbers(a, b):\n",
        "    return a + b\n",
        "result = add_numbers(3, 5)\n",
        "print(result)  # Output: 8\n",
        "\n",
        "**METHOD**\n",
        "--> 1.Instance Method: Bound to an object, takes self.\n",
        "2.Class Method: Bound to the class, takes cls.\n",
        "3.Static Method: Doesn't depend on class or instance, does not take self or cls\n",
        "\n",
        "**Example **- Instance Method\n",
        " class Dog:\n",
        "    total_dogs = 0\n",
        "    \n",
        "    def __init__(self, name):\n",
        "        self.name = name\n",
        "        Dog.total_dogs += 1\n",
        "    \n",
        "    @classmethod\n",
        "    def total(cls):\n",
        "        print(f\"Total dogs: {cls.total_dogs}\")\n",
        "\n",
        "dog1 = Dog(\"Max\")\n",
        "dog2 = Dog(\"Buddy\")\n",
        "Dog.total()  # Output: Total dogs: 2\n",
        "\n"
      ],
      "metadata": {
        "id": "sml_MUrioWan"
      }
    },
    {
      "cell_type": "markdown",
      "source": [
        "**2. Explain the concept of function arguments and parameters in Python.**\n",
        "\n",
        "In Python, **function arguments** and **parameters** refer to the values used when defining and calling functions.\n",
        "\n",
        "### 1. **Parameters**:\n",
        "- **Parameters** are the variables listed in the function definition.\n",
        "- They are placeholders that define what kind of values the function expects to receive when it's called.\n",
        "\n",
        "#### Example:\n",
        "```python\n",
        "def greet(name, age):\n",
        "    print(f\"Hello, {name}! You are {age} years old.\")\n",
        "```\n",
        "In this example, `name` and `age` are parameters of the `greet` function. They define what values need to be passed when the function is called.\n",
        "\n",
        "### 2. **Arguments**:\n",
        "- **Arguments** are the actual values or data you pass to the function when calling it.\n",
        "- These are the real values provided for the parameters.\n",
        "\n",
        "#### Example:\n",
        "```python\n",
        "greet(\"Alice\", 30)\n",
        "```\n",
        "Here, `\"Alice\"` and `30` are **arguments**. They are the actual values passed to the parameters `name` and `age`, respectively, during the function call.\n",
        "\n",
        "### Summary:\n",
        "- **Parameters**: Variables defined in the function signature (e.g., `name` and `age` in the `greet` function).\n",
        "- **Arguments**: The actual values supplied to the function when called (e.g., `\"Alice\"` and `30`).\n",
        "\n",
        "### Types of Arguments:\n",
        "1. **Positional Arguments**: These are passed to the function in the same order as the parameters.\n",
        "   ```python\n",
        "   def add(a, b):\n",
        "       return a + b\n",
        "   add(5, 3)  # 5 and 3 are positional arguments.\n",
        "   ```\n",
        "\n",
        "2. **Keyword Arguments**: These specify which parameter each argument is associated with by name, allowing you to pass arguments in any order.\n",
        "   ```python\n",
        "   def greet(name, age):\n",
        "       print(f\"Hello, {name}! You are {age} years old.\")\n",
        "   greet(age=30, name=\"Alice\")  # Arguments passed in any order by specifying the parameter names.\n",
        "   ```\n",
        "\n",
        "3. **Default Arguments**: Parameters can have default values, which are used if no argument is passed for them.\n",
        "   ```python\n",
        "   def greet(name, age=18):\n",
        "       print(f\"Hello, {name}! You are {age} years old.\")\n",
        "   greet(\"Bob\")  # Uses default value of age (18)\n",
        "   greet(\"Alice\", 25)  # Uses the provided value for age (25)\n",
        "   ```\n",
        "\n",
        "4. **Variable-length Arguments**: These allow you to pass a variable number of arguments to a function using `*args` for non-keyword arguments and `**kwargs` for keyword arguments.\n",
        "   - **`*args`** collects extra positional arguments.\n",
        "   - **`**kwargs`** collects extra keyword arguments.\n",
        "   ```python\n",
        "   def example(*args, **kwargs):\n",
        "       print(args)  # tuple of positional arguments\n",
        "       print(kwargs)  # dictionary of keyword arguments\n",
        "   example(1, 2, 3, name=\"Alice\", age=25)\n",
        "   ```\n",
        "\n",
        "This flexibility makes Python functions adaptable to a variety of use cases!"
      ],
      "metadata": {
        "id": "lJ7jOK2Vq5ge"
      }
    },
    {
      "cell_type": "markdown",
      "source": [
        "**3. What are the different ways to define and call a function in Python?**\n",
        "\n",
        "In Python, you can define and call a function in several different ways. Below are the common methods:\n",
        "\n",
        "### 1. **Defining a Simple Function**\n",
        "This is the most basic way to define and call a function in Python using the `def` keyword.\n",
        "\n",
        "#### Definition:\n",
        "```python\n",
        "def function_name():\n",
        "    print(\"Hello, world!\")\n",
        "```\n",
        "\n",
        "#### Call:\n",
        "```python\n",
        "function_name()\n",
        "```\n",
        "\n",
        "### 2. **Function with Parameters**\n",
        "You can define a function that takes parameters (arguments).\n",
        "\n",
        "#### Definition:\n",
        "```python\n",
        "def greet(name):\n",
        "    print(f\"Hello, {name}!\")\n",
        "```\n",
        "\n",
        "#### Call:\n",
        "```python\n",
        "greet(\"Alice\")\n",
        "```\n",
        "\n",
        "### 3. **Function with Return Values**\n",
        "A function can return a value using the `return` keyword.\n",
        "\n",
        "#### Definition:\n",
        "```python\n",
        "def add(a, b):\n",
        "    return a + b\n",
        "```\n",
        "\n",
        "#### Call:\n",
        "```python\n",
        "result = add(2, 3)\n",
        "print(result)  # Output: 5\n",
        "```\n",
        "\n",
        "### 4. **Function with Default Parameters**\n",
        "You can define functions where parameters have default values.\n",
        "\n",
        "#### Definition:\n",
        "```python\n",
        "def greet(name=\"Guest\"):\n",
        "    print(f\"Hello, {name}!\")\n",
        "```\n",
        "\n",
        "#### Call:\n",
        "```python\n",
        "greet()          # Uses default value \"Guest\"\n",
        "greet(\"Alice\")   # Uses passed value \"Alice\"\n",
        "```\n",
        "\n",
        "### 5. **Function with Variable Number of Arguments (Arbitrary Arguments)**\n",
        "Functions can accept an arbitrary number of arguments using `*args` (for non-keyword arguments) or `**kwargs` (for keyword arguments).\n",
        "\n",
        "#### Definition (with *args):\n",
        "```python\n",
        "def print_numbers(*args):\n",
        "    for num in args:\n",
        "        print(num)\n",
        "```\n",
        "\n",
        "#### Call:\n",
        "```python\n",
        "print_numbers(1, 2, 3, 4)\n",
        "```\n",
        "\n",
        "#### Definition (with **kwargs):\n",
        "```python\n",
        "def display_info(**kwargs):\n",
        "    for key, value in kwargs.items():\n",
        "        print(f\"{key}: {value}\")\n",
        "```\n",
        "\n",
        "#### Call:\n",
        "```python\n",
        "display_info(name=\"Alice\", age=25)\n",
        "```\n",
        "\n",
        "### 6. **Lambda Functions (Anonymous Functions)**\n",
        "Lambda functions are small anonymous functions defined using the `lambda` keyword.\n",
        "\n",
        "#### Definition:\n",
        "```python\n",
        "multiply = lambda x, y: x * y\n",
        "```\n",
        "\n",
        "#### Call:\n",
        "```python\n",
        "result = multiply(3, 4)\n",
        "print(result)  # Output: 12\n",
        "```\n",
        "\n",
        "### 7. **Function Calling Itself (Recursion)**\n",
        "A function can call itself to solve a problem in smaller, manageable parts (recursion).\n",
        "\n",
        "#### Definition:\n",
        "```python\n",
        "def factorial(n):\n",
        "    if n == 0:\n",
        "        return 1\n",
        "    else:\n",
        "        return n * factorial(n - 1)\n",
        "```\n",
        "\n",
        "#### Call:\n",
        "```python\n",
        "print(factorial(5))  # Output: 120\n",
        "```\n",
        "\n",
        "### 8. **Function References**\n",
        "You can assign a function to a variable and then call it using the variable.\n",
        "\n",
        "#### Definition:\n",
        "```python\n",
        "def say_hello():\n",
        "    print(\"Hello!\")\n",
        "    \n",
        "hello_function = say_hello\n",
        "```\n",
        "\n",
        "#### Call:\n",
        "```python\n",
        "hello_function()  # Output: Hello!\n",
        "```\n"
      ],
      "metadata": {
        "id": "yX9ggEvHr061"
      }
    },
    {
      "cell_type": "markdown",
      "source": [
        "**4. What is the purpose of the `return` statement in a Python function?**\n",
        "\n",
        "The `return` statement in a Python function serves several important purposes:\n",
        "\n",
        "1. **Exits the Function**: When the `return` statement is executed, it immediately terminates the function's execution. Any code after the `return` statement within the function is not executed.\n",
        "\n",
        "2. **Returns a Value**: The primary purpose of `return` is to send a value from the function back to the caller. This allows the result of the function to be used elsewhere in the program.\n",
        "\n",
        "For example:\n",
        "```python\n",
        "def add(a, b):\n",
        "    return a + b\n",
        "\n",
        "result = add(3, 5)\n",
        "print(result)  # Output: 8\n",
        "```\n",
        "In this case, `return a + b` sends the sum of `a` and `b` back to the caller, where it's stored in the `result` variable and printed.\n",
        "\n",
        "3. **Optional**: If the `return` statement is omitted, the function will return `None` by default. This happens when there is no explicit `return` or if the function doesn't return any value.\n",
        "\n",
        "For example:\n",
        "```python\n",
        "def greet(name):\n",
        "    print(f\"Hello, {name}!\")\n",
        "\n",
        "result = greet(\"Alice\")\n",
        "print(result)  # Output: None\n",
        "```\n",
        "In this case, `greet()` doesn't have a `return` statement, so it returns `None`.\n",
        "\n",
        "In summary, the `return` statement is used to return values from a function and exit the function early."
      ],
      "metadata": {
        "id": "P_3Kk_XvsSWF"
      }
    },
    {
      "cell_type": "markdown",
      "source": [
        "**5. What are iterators in Python and how do they differ from iterables?**\n",
        "\n",
        "In Python, both **iterables** and **iterators** are essential concepts for working with sequences of data, but they have distinct roles.\n",
        "\n",
        "### **Iterables**:\n",
        "An **iterable** is any object in Python that can return an iterator. In other words, an iterable is an object that can be looped over (iterated) using a `for` loop or any other iterative construct. Examples of iterables include lists, tuples, dictionaries, strings, and sets.\n",
        "\n",
        "**Key Points about Iterables:**\n",
        "- An iterable is any object that implements the `__iter__()` method or defines a `__getitem__()` method (the object can be indexed, and its items can be retrieved in a sequence).\n",
        "- You can pass an iterable to the `iter()` function to get an iterator.\n",
        "- Examples of iterables: lists (`[1, 2, 3]`), strings (`\"hello\"`), sets (`{1, 2, 3}`).\n",
        "\n",
        "### **Iterators**:\n",
        "An **iterator** is an object that represents a stream of data, which is returned by calling the `iter()` function on an iterable. Iterators are objects that allow you to iterate (or loop) over the elements of an iterable one at a time.\n",
        "\n",
        "**Key Points about Iterators:**\n",
        "- An iterator must implement two methods:\n",
        "  1. `__iter__()`: Returns the iterator object itself. This is required so that the iterator can be used in a loop.\n",
        "  2. `__next__()`: Returns the next item from the stream. If there are no more items, it raises a `StopIteration` exception.\n",
        "- Once an iterator is exhausted (i.e., no more elements are available), any subsequent calls to `__next__()` will raise a `StopIteration` exception.\n",
        "- Example of an iterator: if you use the `iter()` function on a list, the result is an iterator.\n",
        "\n",
        "### **Key Differences**:\n",
        "1. **Definition**:\n",
        "   - **Iterable**: An object that can return an iterator when passed to `iter()`.\n",
        "   - **Iterator**: An object that keeps track of its current position and can return the next item on each `__next__()` call.\n",
        "   \n",
        "2. **Purpose**:\n",
        "   - **Iterable**: Allows you to define a sequence of items, such as a list or string.\n",
        "   - **Iterator**: Used to actually traverse through that sequence one item at a time.\n",
        "\n",
        "3. **Methods**:\n",
        "   - **Iterable**: Implements the `__iter__()` method.\n",
        "   - **Iterator**: Implements both `__iter__()` and `__next__()` methods.\n",
        "\n",
        "### Example:\n",
        "\n",
        "```python\n",
        "# Example of an iterable\n",
        "my_list = [1, 2, 3]\n",
        "iterator = iter(my_list)  # Convert iterable to iterator\n",
        "\n",
        "# Example of using an iterator\n",
        "print(next(iterator))  # Output: 1\n",
        "print(next(iterator))  # Output: 2\n",
        "print(next(iterator))  # Output: 3\n",
        "# Next call will raise StopIteration\n",
        "# print(next(iterator))  # Uncommenting this line will raise StopIteration\n",
        "```\n",
        "\n",
        "### Conclusion:\n",
        "- An **iterable** is any object that can return an iterator, allowing it to be iterated over.\n",
        "- An **iterator** is the object that actually performs the iteration and keeps track of the current position.\n",
        "\n",
        "This distinction allows Python to support efficient iteration over large datasets and provides a flexible framework for creating custom sequences and traversing through them."
      ],
      "metadata": {
        "id": "YWtJfKQ9siUU"
      }
    },
    {
      "cell_type": "markdown",
      "source": [
        "**6. Explain the concept of generators in Python and how they are defined.**\n",
        "\n",
        "In Python, **generators** are a type of iterable, like lists or tuples, but unlike them, they allow you to iterate over their items one at a time without storing the entire sequence in memory. This makes generators very efficient, especially for large datasets or when you only need to access items one by one, as they generate values lazily (i.e., they produce items only when required).\n",
        "\n",
        "### Key Points about Generators:\n",
        "\n",
        "1. **Lazy Evaluation**: A generator does not compute its values all at once. Instead, it generates values one at a time, as they are requested, and retains its state between iterations. This reduces memory consumption.\n",
        "\n",
        "2. **Memory Efficiency**: Since generators don’t store all items in memory, they are memory-efficient when dealing with large sequences.\n",
        "\n",
        "3. **Simpler Syntax**: Generators can be defined using a special function or a generator expression.\n",
        "\n",
        "### How Generators Are Defined:\n",
        "\n",
        "#### 1. **Using a Function with `yield`**:\n",
        "\n",
        "A generator function is defined using the `def` keyword, but instead of returning a value using `return`, it uses the `yield` keyword. Each time the generator’s `__next__()` method is called, the function execution resumes where it left off (from the last `yield` statement) and produces the next value.\n",
        "\n",
        "**Example**:\n",
        "\n",
        "```python\n",
        "def count_up_to(max):\n",
        "    count = 1\n",
        "    while count <= max:\n",
        "        yield count  # Yield the current value\n",
        "        count += 1\n",
        "\n",
        "# Using the generator\n",
        "counter = count_up_to(5)\n",
        "for number in counter:\n",
        "    print(number)\n",
        "```\n",
        "\n",
        "**Explanation**:\n",
        "- When `count_up_to()` is called, it returns a generator object.\n",
        "- Each time `next(counter)` is called, it executes the function until it hits the `yield` keyword, returns the yielded value, and pauses execution.\n",
        "- The next call to `next(counter)` resumes execution from the last `yield` statement.\n",
        "\n",
        "#### 2. **Using a Generator Expression**:\n",
        "\n",
        "Python also provides a shorthand syntax for defining generators using generator expressions, which are similar to list comprehensions but with parentheses `()` instead of square brackets `[]`.\n",
        "\n",
        "**Example**:\n",
        "\n",
        "```python\n",
        "squares = (x * x for x in range(1, 6))  # Generator expression\n",
        "for square in squares:\n",
        "    print(square)\n",
        "```\n",
        "\n",
        "This creates a generator that yields the square of each number in the range from 1 to 5.\n",
        "\n",
        "### How to Use Generators:\n",
        "\n",
        "- **Iteration**: You can iterate through a generator using loops (e.g., `for` loops).\n",
        "- **`next()` function**: You can manually retrieve the next value from the generator using the `next()` function.\n",
        "\n",
        "**Example**:\n",
        "\n",
        "```python\n",
        "gen = (x ** 2 for x in range(3))\n",
        "\n",
        "# Retrieve values one by one\n",
        "print(next(gen))  # 0\n",
        "print(next(gen))  # 1\n",
        "print(next(gen))  # 4\n",
        "```\n",
        "\n",
        "Once all values are generated, a `StopIteration` exception is raised when `next()` is called again.\n",
        "\n",
        "### Advantages of Using Generators:\n",
        "- **Memory Efficient**: They do not store the entire sequence in memory.\n",
        "- **Performance**: Especially for large data sets, generators can be faster than creating and holding large collections in memory.\n",
        "- **Infinite Sequences**: Generators are ideal for dealing with infinite sequences, such as generating Fibonacci numbers, where you don't need all the numbers at once.\n",
        "\n",
        "### Summary:\n",
        "Generators in Python provide an efficient way to work with large datasets by generating values on the fly, without the need to store them all in memory. They are defined using the `yield` keyword within a function or using a generator expression. They are particularly useful for handling large or infinite sequences of data."
      ],
      "metadata": {
        "id": "GaiK8TMMszUD"
      }
    },
    {
      "cell_type": "markdown",
      "source": [
        "**7. What are the advantages of using generators over regular functions?**\n",
        "\n",
        " Ans--> Generators offer several key advantages over regular functions in programming, particularly in Python. Here are the main benefits:\n",
        "\n",
        "1. **Memory Efficiency**:\n",
        "   - **Lazy Evaluation**: Generators compute values on the fly as you iterate over them, rather than generating and storing the entire list in memory. This is particularly useful when working with large data sets or infinite sequences, where storing everything in memory would be inefficient or impossible.\n",
        "   - **No Need to Store Data**: Instead of returning a collection (like a list), a generator yields one item at a time, which means you only need enough memory to hold the current item in the sequence.\n",
        "\n",
        "2. **Improved Performance**:\n",
        "   - **On-demand Execution**: Because a generator only calculates the next value when asked for it, there can be performance benefits, especially when the entire sequence is not needed at once.\n",
        "   - **Reduced Overhead**: Unlike functions that return large collections, a generator uses less memory and reduces the computational overhead of generating and storing all values upfront.\n",
        "\n",
        "3. **State Retention**:\n",
        "   - **Automatic State Management**: Generators remember their state between calls. This means that after yielding a value, the generator function \"pauses\" and can pick up where it left off on the next iteration, without the need for additional code to manage the state manually.\n",
        "   - **Efficient State Management**: In contrast, regular functions often require manual state management (such as using global variables or class instances), which can be more error-prone and less elegant.\n",
        "\n",
        "4. **Cleaner Code**:\n",
        "   - **Simplicity**: Using generators simplifies code when you need to create iterators. For example, a generator can replace complex classes or functions designed to create iterators, leading to more concise and readable code.\n",
        "   - **Avoiding Temporary Lists**: You can generate values without needing to construct and manage a temporary list or collection, which is useful for processes that are more concerned with iteration than collection.\n",
        "\n",
        "5. **Infinite Sequences**:\n",
        "   - **Handling Infinite Data**: Generators can represent infinite sequences (like counting numbers or streaming data) that cannot be represented using regular functions that return all values at once. Since generators yield values one by one, they allow you to work with theoretically infinite sequences without running into memory or performance issues.\n",
        "\n",
        "6. **Improved Control Flow**:\n",
        "   - **Control with `yield`**: The `yield` statement in generators offers more flexibility in controlling the flow of the function. You can pause the execution of a function, return a value, and then resume execution later, which is not easily done with regular functions that return results all at once.\n",
        "\n",
        "In summary, generators provide memory efficiency, improved performance for large or infinite sequences, cleaner code, and better state management compared to regular functions, making them ideal for scenarios that involve large datasets, complex iteration, or real-time processing."
      ],
      "metadata": {
        "id": "k1yo4HBytDON"
      }
    },
    {
      "cell_type": "markdown",
      "source": [
        "**8. What is a lambda function in Python and when is it typically used?**\n",
        "\n",
        "**Ans-->** A **lambda function** in Python is a small, anonymous function defined using the `lambda` keyword. It allows you to write a function in a concise way without having to use a formal `def` block. Lambda functions are commonly used when you need a simple, one-line function that is not reused elsewhere in your code.\n",
        "\n",
        "### Syntax:\n",
        "```python\n",
        "lambda arguments: expression\n",
        "```\n",
        "\n",
        "- **`arguments`**: A comma-separated list of parameters (can be zero or more).\n",
        "- **`expression`**: An expression that is evaluated and returned as the result of the function.\n",
        "\n",
        "### Example:\n",
        "```python\n",
        "add = lambda x, y: x + y\n",
        "print(add(3, 5))  # Output: 8\n",
        "```\n",
        "\n",
        "### When is a lambda function typically used?\n",
        "\n",
        "1. **Short, Throwaway Functions**:\n",
        "   Lambda functions are ideal for short, simple tasks where defining a full function using `def` is unnecessary. They are often used in situations where a function is needed temporarily or as an argument to another function.\n",
        "\n",
        "2. **Higher-Order Functions**:\n",
        "   Lambda functions are commonly used in higher-order functions like `map()`, `filter()`, and `sorted()`, which require a function as an argument.\n",
        "\n",
        "   - **Example with `map()`**:\n",
        "     ```python\n",
        "     numbers = [1, 2, 3, 4]\n",
        "     squares = list(map(lambda x: x ** 2, numbers))\n",
        "     print(squares)  # Output: [1, 4, 9, 16]\n",
        "     ```\n",
        "\n",
        "   - **Example with `filter()`**:\n",
        "     ```python\n",
        "     numbers = [1, 2, 3, 4, 5]\n",
        "     even_numbers = list(filter(lambda x: x % 2 == 0, numbers))\n",
        "     print(even_numbers)  # Output: [2, 4]\n",
        "     ```\n",
        "\n",
        "3. **Sorting**:\n",
        "   Lambda functions are often used as the `key` argument in sorting operations where the sort criteria are more complex than the default sorting order.\n",
        "\n",
        "   - **Example with `sorted()`**:\n",
        "     ```python\n",
        "     pairs = [(1, 'one'), (3, 'three'), (2, 'two')]\n",
        "     sorted_pairs = sorted(pairs, key=lambda x: x[0])  # Sort by first element\n",
        "     print(sorted_pairs)  # Output: [(1, 'one'), (2, 'two'), (3, 'three')]\n",
        "     ```\n",
        "\n",
        "### Characteristics:\n",
        "- **Anonymous**: Lambda functions do not have a name unless you assign them to a variable.\n",
        "- **Single Expression**: The body of a lambda function can only be a single expression (no statements, like loops or conditionals).\n",
        "- **Return Value**: The result of the expression is automatically returned without the need for a `return` statement.\n",
        "\n",
        "### Limitations:\n",
        "- Lambda functions are meant for simple operations. If the logic is too complex, it's better to use a regular function defined with `def`.\n"
      ],
      "metadata": {
        "id": "uHgS2USAtZeF"
      }
    },
    {
      "cell_type": "markdown",
      "source": [
        "**9. Explain the purpose and usage of the `map()` function in Python.**\n",
        "\n",
        "**Ans-->** The `map()` function in Python is a built-in function used to apply a specified function to each item in an iterable (like a list, tuple, etc.) and return an iterator that yields the results. It allows you to process all elements of an iterable in a functional programming style, which can make the code more concise and readable.\n",
        "\n",
        "### Purpose:\n",
        "The primary purpose of `map()` is to transform or process each item in an iterable (e.g., list or tuple) using a specified function, without the need for explicit loops.\n",
        "\n",
        "### Syntax:\n",
        "```python\n",
        "map(function, iterable, ...)\n",
        "```\n",
        "\n",
        "- **`function`**: A function that will be applied to each element in the iterable. This can be a built-in function, a lambda function, or a user-defined function.\n",
        "- **`iterable`**: An iterable (like a list, tuple, etc.) whose elements will be passed to the function.\n",
        "- **`...`**: You can pass more iterables, and the function will be applied to items from all iterables in parallel. If more than one iterable is provided, the function must accept as many arguments as there are iterables.\n",
        "\n",
        "### Returns:\n",
        "`map()` returns an iterator, which is an object that generates values only when iterated over (using a loop or converting it to a list, tuple, etc.).\n",
        "\n",
        "### Example 1: Using `map()` with a function\n",
        "Suppose you have a list of numbers and want to square each number.\n",
        "\n",
        "```python\n",
        "# Define a function to square numbers\n",
        "def square(x):\n",
        "    return x * x\n",
        "\n",
        "# List of numbers\n",
        "numbers = [1, 2, 3, 4]\n",
        "\n",
        "# Use map to apply the square function to each element in the list\n",
        "squared_numbers = map(square, numbers)\n",
        "\n",
        "# Convert the result to a list and print\n",
        "print(list(squared_numbers))  # Output: [1, 4, 9, 16]\n",
        "```\n",
        "\n",
        "### Example 2: Using `map()` with a lambda function\n",
        "You can also use a lambda function directly in `map()`:\n",
        "\n",
        "```python\n",
        "# List of numbers\n",
        "numbers = [1, 2, 3, 4]\n",
        "\n",
        "# Use map with a lambda function to square each number\n",
        "squared_numbers = map(lambda x: x * x, numbers)\n",
        "\n",
        "# Convert the result to a list and print\n",
        "print(list(squared_numbers))  # Output: [1, 4, 9, 16]\n",
        "```\n",
        "\n",
        "### Example 3: Using `map()` with multiple iterables\n",
        "When multiple iterables are passed, the function must accept as many arguments as there are iterables.\n",
        "\n",
        "```python\n",
        "# Lists of numbers\n",
        "numbers1 = [1, 2, 3]\n",
        "numbers2 = [4, 5, 6]\n",
        "\n",
        "# Use map with a lambda function to add elements from both lists\n",
        "result = map(lambda x, y: x + y, numbers1, numbers2)\n",
        "\n",
        "# Convert the result to a list and print\n",
        "print(list(result))  # Output: [5, 7, 9]\n",
        "```\n",
        "\n",
        "### Key Points:\n",
        "- **Efficiency**: `map()` is more memory efficient than using a `for` loop because it returns an iterator instead of a list (in Python 3).\n",
        "- **Functional Style**: It promotes a functional programming style by encouraging the use of functions like `lambda` and `map()` instead of manually iterating over elements.\n",
        "- **Multiple Iterables**: `map()` can accept more than one iterable, processing elements from each simultaneously.\n",
        "\n",
        "### Summary:\n",
        "The `map()` function is useful when you need to apply a function to each item of an iterable (or multiple iterables) and return the results. It is a convenient and efficient alternative to using loops for processing collections."
      ],
      "metadata": {
        "id": "yO3UphgNt6c0"
      }
    },
    {
      "cell_type": "markdown",
      "source": [
        "**10. What is the difference between `map()`, `reduce()`, and `filter()` functions in Python?**\n",
        "\n",
        "**Ans-->** In Python, `map()`, `reduce()`, and `filter()` are built-in higher-order functions that are used for processing iterables like lists, tuples, or any other iterable objects. Each of these functions serves a distinct purpose in functional programming.\n",
        "\n",
        "### 1. **`map()`**:\n",
        "   - **Purpose**: Applies a given function to each item of an iterable (like a list) and returns a new iterable (specifically a map object, which can be converted to a list, tuple, etc.).\n",
        "   - **Syntax**: `map(function, iterable, ...)`\n",
        "   - **Return Type**: It returns an iterator (which can be converted to a list or other collection types).\n",
        "   - **Use Case**: When you want to transform all elements in an iterable.\n",
        "   - **Example**:\n",
        "     ```python\n",
        "     numbers = [1, 2, 3, 4]\n",
        "     squared_numbers = map(lambda x: x ** 2, numbers)\n",
        "     print(list(squared_numbers))  # Output: [1, 4, 9, 16]\n",
        "     ```\n",
        "\n",
        "### 2. **`reduce()`** (from `functools` module):\n",
        "   - **Purpose**: Applies a given function cumulatively to the items of an iterable, from left to right, to reduce it to a single value.\n",
        "   - **Syntax**: `reduce(function, iterable, [initializer])`\n",
        "   - **Return Type**: A single value (any datatype, depending on the function used).\n",
        "   - **Use Case**: When you need to aggregate values, like summing or multiplying items in an iterable.\n",
        "   - **Example**:\n",
        "     ```python\n",
        "     from functools import reduce\n",
        "     numbers = [1, 2, 3, 4]\n",
        "     result = reduce(lambda x, y: x + y, numbers)\n",
        "     print(result)  # Output: 10\n",
        "     ```\n",
        "\n",
        "### 3. **`filter()`**:\n",
        "   - **Purpose**: Filters out elements from an iterable based on a function that returns either `True` or `False`. It only includes elements where the function returns `True`.\n",
        "   - **Syntax**: `filter(function, iterable)`\n",
        "   - **Return Type**: It returns an iterator, which can be converted to a list or other collection types.\n",
        "   - **Use Case**: When you want to exclude certain elements from an iterable based on a condition.\n",
        "   - **Example**:\n",
        "     ```python\n",
        "     numbers = [1, 2, 3, 4, 5, 6]\n",
        "     even_numbers = filter(lambda x: x % 2 == 0, numbers)\n",
        "     print(list(even_numbers))  # Output: [2, 4, 6]\n",
        "     ```\n",
        "\n",
        "### Key Differences:\n",
        "- **`map()`** applies a function to each item and returns a transformed iterable.\n",
        "- **`reduce()`** applies a function cumulatively to reduce the iterable to a single value.\n",
        "- **`filter()`** selects elements from the iterable that satisfy a condition, returning a filtered iterable.\n",
        "\n",
        "In short:\n",
        "- **`map()`** is for transforming values.\n",
        "- **`reduce()`** is for combining values into a single result.\n",
        "- **`filter()`** is for filtering out values based on a condition."
      ],
      "metadata": {
        "id": "IVhXMUi7uU1j"
      }
    },
    {
      "cell_type": "markdown",
      "source": [],
      "metadata": {
        "id": "TKOtq9mswH4L"
      }
    },
    {
      "cell_type": "markdown",
      "source": [
        "# Practicle Questions\n"
      ],
      "metadata": {
        "id": "Wq8taWJWueoz"
      }
    },
    {
      "cell_type": "markdown",
      "source": [
        "**1. Write a Python function that takes a list of numbers as input and returns the sum of all even numbers in\n",
        "the list**"
      ],
      "metadata": {
        "id": "M6602hRuxBmU"
      }
    },
    {
      "cell_type": "markdown",
      "source": [
        "Ans-->"
      ],
      "metadata": {
        "id": "gUHHhimvxY7a"
      }
    },
    {
      "cell_type": "code",
      "source": [
        "def sum_of_even_numbers(numbers):\n",
        "    # Initialize sum variable\n",
        "    sum_even = 0\n",
        "\n",
        "    # Loop through each number in the list\n",
        "    for num in numbers:\n",
        "        # Check if the number is even\n",
        "        if num % 2 == 0:\n",
        "            sum_even += num  # Add the even number to the sum\n",
        "\n",
        "    return sum_even\n"
      ],
      "metadata": {
        "id": "6jP1y5phxdcD"
      },
      "execution_count": null,
      "outputs": []
    },
    {
      "cell_type": "markdown",
      "source": [
        "**2. Create a Python function that accepts a string and returns the reverse of that string.**"
      ],
      "metadata": {
        "id": "kQrOjyIBxmtL"
      }
    },
    {
      "cell_type": "markdown",
      "source": [
        "Ans-->"
      ],
      "metadata": {
        "id": "d4ACkF86x5bZ"
      }
    },
    {
      "cell_type": "code",
      "source": [
        "def reverse_string(input_string):\n",
        "    return input_string[::-1]\n"
      ],
      "metadata": {
        "id": "0v8UGw41yBSZ"
      },
      "execution_count": null,
      "outputs": []
    },
    {
      "cell_type": "markdown",
      "source": [
        "**3. Implement a Python function that takes a list of integers and returns a new list containing the squares of\n",
        "each number.**"
      ],
      "metadata": {
        "id": "gVNKHmxkyFST"
      }
    },
    {
      "cell_type": "markdown",
      "source": [
        "Ans-->"
      ],
      "metadata": {
        "id": "UOwoLiAtyNIK"
      }
    },
    {
      "cell_type": "code",
      "source": [
        "def square_numbers(nums):\n",
        "    return [num ** 2 for num in nums]\n",
        "\n",
        "# Example usage:\n",
        "numbers = [1, 2, 3, 4, 5]\n",
        "squared_numbers = square_numbers(numbers)\n",
        "print(squared_numbers)\n"
      ],
      "metadata": {
        "colab": {
          "base_uri": "https://localhost:8080/"
        },
        "id": "v9_dE2amySmj",
        "outputId": "471444a6-f195-4ad5-ccea-a29f6f69be5f"
      },
      "execution_count": null,
      "outputs": [
        {
          "output_type": "stream",
          "name": "stdout",
          "text": [
            "[1, 4, 9, 16, 25]\n"
          ]
        }
      ]
    },
    {
      "cell_type": "markdown",
      "source": [
        "**4. Write a Python function that checks if a given number is prime or not from 1 to 200.**"
      ],
      "metadata": {
        "id": "J0L6mRkqyUw6"
      }
    },
    {
      "cell_type": "markdown",
      "source": [
        "Ans-->"
      ],
      "metadata": {
        "id": "4XpIBmnNydfa"
      }
    },
    {
      "cell_type": "code",
      "source": [
        "def is_prime(num):\n",
        "    # Check if the number is less than 2, which is not prime\n",
        "    if num < 2:\n",
        "        return False\n",
        "    # Check for factors from 2 to the square root of the number\n",
        "    for i in range(2, int(num**0.5) + 1):\n",
        "        if num % i == 0:\n",
        "            return False\n",
        "    return True\n",
        "\n",
        "# Test the function for numbers from 1 to 200\n",
        "for number in range(1, 201):\n",
        "    if is_prime(number):\n",
        "        print(f\"{number} is a prime number.\")\n"
      ],
      "metadata": {
        "colab": {
          "base_uri": "https://localhost:8080/"
        },
        "id": "YZ4ocCdvyftx",
        "outputId": "3d18ac02-89fb-4929-f2ac-d58aa1286dbd"
      },
      "execution_count": null,
      "outputs": [
        {
          "output_type": "stream",
          "name": "stdout",
          "text": [
            "2 is a prime number.\n",
            "3 is a prime number.\n",
            "5 is a prime number.\n",
            "7 is a prime number.\n",
            "11 is a prime number.\n",
            "13 is a prime number.\n",
            "17 is a prime number.\n",
            "19 is a prime number.\n",
            "23 is a prime number.\n",
            "29 is a prime number.\n",
            "31 is a prime number.\n",
            "37 is a prime number.\n",
            "41 is a prime number.\n",
            "43 is a prime number.\n",
            "47 is a prime number.\n",
            "53 is a prime number.\n",
            "59 is a prime number.\n",
            "61 is a prime number.\n",
            "67 is a prime number.\n",
            "71 is a prime number.\n",
            "73 is a prime number.\n",
            "79 is a prime number.\n",
            "83 is a prime number.\n",
            "89 is a prime number.\n",
            "97 is a prime number.\n",
            "101 is a prime number.\n",
            "103 is a prime number.\n",
            "107 is a prime number.\n",
            "109 is a prime number.\n",
            "113 is a prime number.\n",
            "127 is a prime number.\n",
            "131 is a prime number.\n",
            "137 is a prime number.\n",
            "139 is a prime number.\n",
            "149 is a prime number.\n",
            "151 is a prime number.\n",
            "157 is a prime number.\n",
            "163 is a prime number.\n",
            "167 is a prime number.\n",
            "173 is a prime number.\n",
            "179 is a prime number.\n",
            "181 is a prime number.\n",
            "191 is a prime number.\n",
            "193 is a prime number.\n",
            "197 is a prime number.\n",
            "199 is a prime number.\n"
          ]
        }
      ]
    },
    {
      "cell_type": "markdown",
      "source": [
        "**5. Create an iterator class in Python that generates the Fibonacci sequence up to a specified number of\n",
        "terms**"
      ],
      "metadata": {
        "id": "jwoj1MZSyn3K"
      }
    },
    {
      "cell_type": "markdown",
      "source": [
        "Ans-->"
      ],
      "metadata": {
        "id": "dCS8Q5F9ytsK"
      }
    },
    {
      "cell_type": "code",
      "source": [
        "class FibonacciIterator:\n",
        "    def __init__(self, n_terms):\n",
        "        \"\"\"Initialize the iterator with the number of terms.\"\"\"\n",
        "        self.n_terms = n_terms\n",
        "        self.a, self.b = 0, 1  # First two terms in the Fibonacci sequence\n",
        "        self.count = 0\n",
        "\n",
        "    def __iter__(self):\n",
        "        \"\"\"Return the iterator itself.\"\"\"\n",
        "        return self\n",
        "\n",
        "    def __next__(self):\n",
        "        \"\"\"Return the next Fibonacci number in the sequence.\"\"\"\n",
        "        if self.count < self.n_terms:\n",
        "            # Return the current term and update a and b\n",
        "            self.count += 1\n",
        "            self.a, self.b = self.b, self.a + self.b\n",
        "            return self.a\n",
        "        else:\n",
        "            # Raise StopIteration when the limit of terms is reached\n",
        "            raise StopIteration\n",
        "\n",
        "\n",
        "# Example usage\n",
        "n = 10  # Set the number of Fibonacci terms you want\n",
        "fib_iterator = FibonacciIterator(n)\n",
        "\n",
        "for term in fib_iterator:\n",
        "    print(term)\n"
      ],
      "metadata": {
        "colab": {
          "base_uri": "https://localhost:8080/"
        },
        "id": "nuOqsHWkyvsp",
        "outputId": "a556921b-e162-4768-91e1-69a48e38e30e"
      },
      "execution_count": null,
      "outputs": [
        {
          "output_type": "stream",
          "name": "stdout",
          "text": [
            "1\n",
            "1\n",
            "2\n",
            "3\n",
            "5\n",
            "8\n",
            "13\n",
            "21\n",
            "34\n",
            "55\n"
          ]
        }
      ]
    },
    {
      "cell_type": "markdown",
      "source": [
        "**6. Write a generator function in Python that yields the powers of 2 up to a given exponent**"
      ],
      "metadata": {
        "id": "IYAXYxtzy2Xq"
      }
    },
    {
      "cell_type": "markdown",
      "source": [
        "Ans-->"
      ],
      "metadata": {
        "id": "8ZGXyDWxy6_B"
      }
    },
    {
      "cell_type": "code",
      "source": [
        "def powers_of_two(exponent):\n",
        "    for i in range(exponent + 1):\n",
        "        yield 2 ** i\n"
      ],
      "metadata": {
        "id": "JVCze7b-y-D6"
      },
      "execution_count": null,
      "outputs": []
    },
    {
      "cell_type": "markdown",
      "source": [
        "**7. Implement a generator function that reads a file line by line and yields each line as a string.**"
      ],
      "metadata": {
        "id": "Ff-tCQACzE8a"
      }
    },
    {
      "cell_type": "markdown",
      "source": [
        "Ans-->"
      ],
      "metadata": {
        "id": "Ta8OjfzQzKlL"
      }
    },
    {
      "cell_type": "code",
      "source": [
        "def read_file_line_by_line(filename):\n",
        "    with open(filename, 'r') as file:\n",
        "        for line in file:\n",
        "            yield line.strip()  # Yield each line without extra newlines\n"
      ],
      "metadata": {
        "id": "hzbhPXUXzMqB"
      },
      "execution_count": null,
      "outputs": []
    },
    {
      "cell_type": "markdown",
      "source": [
        "**8. Use a lambda function in Python to sort a list of tuples based on the second element of each tuple.**"
      ],
      "metadata": {
        "id": "SiQO8bUxzT2y"
      }
    },
    {
      "cell_type": "markdown",
      "source": [
        "Ans-->"
      ],
      "metadata": {
        "id": "TzeDl2uezdB5"
      }
    },
    {
      "cell_type": "code",
      "source": [
        "# List of tuples\n",
        "tuples = [(1, 5), (2, 3), (4, 7), (3, 2)]\n",
        "\n",
        "# Sort the list of tuples based on the second element of each tuple\n",
        "sorted_tuples = sorted(tuples, key=lambda x: x[1])\n",
        "\n",
        "# Output the sorted list\n",
        "print(sorted_tuples)\n"
      ],
      "metadata": {
        "colab": {
          "base_uri": "https://localhost:8080/"
        },
        "id": "1J3D1FHCzgEr",
        "outputId": "ca58bfbc-8932-4a84-b0c5-e90e5e8a2943"
      },
      "execution_count": null,
      "outputs": [
        {
          "output_type": "stream",
          "name": "stdout",
          "text": [
            "[(3, 2), (2, 3), (1, 5), (4, 7)]\n"
          ]
        }
      ]
    },
    {
      "cell_type": "markdown",
      "source": [
        "**9. Write a Python program that uses `map()` to convert a list of temperatures from Celsius to Fahrenheit.**"
      ],
      "metadata": {
        "id": "fsrmavY6zmEq"
      }
    },
    {
      "cell_type": "markdown",
      "source": [
        "Ans-->"
      ],
      "metadata": {
        "id": "aWIOZ02-zsJi"
      }
    },
    {
      "cell_type": "markdown",
      "source": [],
      "metadata": {
        "id": "HrTQhrho71IP"
      }
    },
    {
      "cell_type": "code",
      "source": [
        "# List of temperatures in Celsius\n",
        "celsius_temps = [0, 20, 25, 30, 40, 100]\n",
        "\n",
        "# Function to convert Celsius to Fahrenheit\n",
        "def celsius_to_fahrenheit(celsius):\n",
        "    return (celsius * 9/5) + 32\n",
        "\n",
        "# Using map to convert each temperature in the list\n",
        "fahrenheit_temps = list(map(celsius_to_fahrenheit, celsius_temps))\n",
        "\n",
        "# Print the result\n",
        "print(f\"Temperatures in Fahrenheit: {fahrenheit_temps}\")\n"
      ],
      "metadata": {
        "colab": {
          "base_uri": "https://localhost:8080/"
        },
        "id": "rhQiP24Mzt-i",
        "outputId": "54d05eee-2e82-4881-c34e-5c922a80469e"
      },
      "execution_count": null,
      "outputs": [
        {
          "output_type": "stream",
          "name": "stdout",
          "text": [
            "Temperatures in Fahrenheit: [32.0, 68.0, 77.0, 86.0, 104.0, 212.0]\n"
          ]
        }
      ]
    },
    {
      "cell_type": "markdown",
      "source": [
        "**10. Create a Python program that uses `filter()` to remove all the vowels from a given string.**"
      ],
      "metadata": {
        "id": "m6foCyj7z0GB"
      }
    },
    {
      "cell_type": "markdown",
      "source": [
        "Ans-->"
      ],
      "metadata": {
        "id": "G40PBMOxz56p"
      }
    },
    {
      "cell_type": "code",
      "source": [
        "def remove_vowels(s):\n",
        "    # Define vowels\n",
        "    vowels = \"aeiouAEIOU\"\n",
        "\n",
        "    # Use filter() to remove vowels from the string\n",
        "    result = filter(lambda char: char not in vowels, s)\n",
        "\n",
        "    # Join the result to form the final string without vowels\n",
        "    return ''.join(result)\n",
        "\n",
        "# Example usage\n",
        "input_string = \"Hello World!\"\n",
        "output_string = remove_vowels(input_string)\n",
        "print(\"Original String:\", input_string)\n",
        "print(\"String without vowels:\", output_string)\n"
      ],
      "metadata": {
        "colab": {
          "base_uri": "https://localhost:8080/"
        },
        "id": "QN6ZT3WVz89C",
        "outputId": "0414bd7e-8e09-41f0-9669-08f5e959885c"
      },
      "execution_count": null,
      "outputs": [
        {
          "output_type": "stream",
          "name": "stdout",
          "text": [
            "Original String: Hello World!\n",
            "String without vowels: Hll Wrld!\n"
          ]
        }
      ]
    }
  ]
}